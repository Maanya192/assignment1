{
  "nbformat": 4,
  "nbformat_minor": 0,
  "metadata": {
    "colab": {
      "provenance": []
    },
    "kernelspec": {
      "name": "python3",
      "display_name": "Python 3"
    },
    "language_info": {
      "name": "python"
    }
  },
  "cells": [
    {
      "cell_type": "code",
      "execution_count": null,
      "metadata": {
        "id": "PPeu6S1befkt"
      },
      "outputs": [],
      "source": []
    },
    {
      "cell_type": "markdown",
      "source": [
        "1.\n",
        "Write a python program for the following:\n",
        "– Input the string “Python” as a list of characters from console, delete at least 2 characters, reverse the\n",
        "resultant string and print it.\n",
        "Sample input:\n",
        "•python\n",
        "•\n",
        "Sample output:\n",
        "•ntyp"
      ],
      "metadata": {
        "id": "dCHM_QWJeskn"
      }
    },
    {
      "cell_type": "code",
      "source": [
        "val = input()\n",
        "if(len(val)>=2):\n",
        "  val=val[:len(val)-2] #removing of the last two characters of the input string\n",
        "  rev=val[::-1] #reversing of the string\n",
        "  print(rev) #printing the output\n",
        "else:\n",
        "  print(\"Reverse is not possible\")  #if length of the string is less than 2 other output"
      ],
      "metadata": {
        "colab": {
          "base_uri": "https://localhost:8080/"
        },
        "id": "K3HLUF6MguaS",
        "outputId": "7f3088dc-67d9-4a85-dda9-251318ab29fe"
      },
      "execution_count": null,
      "outputs": [
        {
          "output_type": "stream",
          "name": "stdout",
          "text": [
            "python\n",
            "htyp\n"
          ]
        }
      ]
    },
    {
      "cell_type": "markdown",
      "source": [
        "1.B.– Take two numbers from user and perform at least 4 arithmetic operations on them."
      ],
      "metadata": {
        "id": "j9d9HtbtgOZP"
      }
    },
    {
      "cell_type": "code",
      "source": [
        "inp1=int(input()) #input1 from user\n",
        "inp2=int(input()) #input2 from user\n",
        "res1=inp1+inp2 #addition operation\n",
        "print(\"add\",res1)\n",
        "res1=inp1-inp2 #subtraction operation\n",
        "print(\"subtract\",res1)\n",
        "res1=inp1*inp2 # multiplication operation\n",
        "print(\"multiply\",res1)\n",
        "res1=inp1/inp2 # division operation\n",
        "print(\"divide\",res1)\n",
        "res1=inp1%inp2 #remainder operation\n",
        "print('remainder',res1)\n",
        "res1 = inp1**inp2 #power operation\n",
        "print('power',res1)"
      ],
      "metadata": {
        "id": "pNaWxHT5gSkx",
        "colab": {
          "base_uri": "https://localhost:8080/"
        },
        "outputId": "cda88f15-8d10-483e-85f9-79fcd7406a02"
      },
      "execution_count": null,
      "outputs": [
        {
          "output_type": "stream",
          "name": "stdout",
          "text": [
            "1\n",
            "2\n",
            "add 3\n",
            "subtract -1\n",
            "multiply 2\n",
            "divide 0.5\n",
            "remainder 1\n",
            "power 1\n"
          ]
        }
      ]
    },
    {
      "cell_type": "markdown",
      "source": [
        "2.\n",
        "Write a program that accepts a sentence and replace each occurrence of ‘python’ with ‘pythons’.\n",
        "•\n",
        "Sample input:\n",
        "•I love playing with python\n",
        "•\n",
        "Sample output:\n",
        "•I love playing with pythons"
      ],
      "metadata": {
        "id": "9yEkhnJNfP-w"
      }
    },
    {
      "cell_type": "code",
      "source": [
        "val=input() #user input\n",
        "print(val.replace('python','pythons')) #using inbuilt replace keyword for replacing the python with pythons"
      ],
      "metadata": {
        "id": "_UoSn4hxfREI",
        "colab": {
          "base_uri": "https://localhost:8080/"
        },
        "outputId": "9d0b7a3d-bacf-44bc-8251-0c170dfa85de"
      },
      "execution_count": null,
      "outputs": [
        {
          "output_type": "stream",
          "name": "stdout",
          "text": [
            "I love playing with python\n",
            "I love playing with pythons\n"
          ]
        }
      ]
    },
    {
      "cell_type": "markdown",
      "source": [
        "3.\n",
        "Use the if statement conditions to write a program to print the letter grade based on an input class score. Use the grading scheme we are using in this class."
      ],
      "metadata": {
        "id": "3pBdYMHthFhE"
      }
    },
    {
      "cell_type": "code",
      "source": [
        "val=int(input(\"Enter class score \")) #user input\n",
        "if(val>=90): #if condition checking whether the user entered score greater than or equal to 90\n",
        "  print(\"Grade A\")\n",
        "if(val>=80 and val<90): #if condition checking whether the user entered score greater than or equal to 80 and less than 90\n",
        "  print(\"Grade B\")\n",
        "if(val>=70 and val<80): #if condition checking whether the user entered score greater than or equal to 70 and less than 80\n",
        "  print(\"Grade C\")\n",
        "if(val>=60 and val<70):  #if condition checking whether the user entered score greater than or equal to 60 and less than 70\n",
        "  print(\"Grade D\")\n",
        "if(val<60): #if condition checking whether the user entered score  less than 60\n",
        "  print(\"Grade F\")"
      ],
      "metadata": {
        "colab": {
          "base_uri": "https://localhost:8080/"
        },
        "id": "_oG-nQB_hNjB",
        "outputId": "89c6e58a-fd95-4378-a431-670788426a7c"
      },
      "execution_count": null,
      "outputs": [
        {
          "output_type": "stream",
          "name": "stdout",
          "text": [
            "Enter class score 90\n",
            "Grade A\n"
          ]
        }
      ]
    }
  ]
}